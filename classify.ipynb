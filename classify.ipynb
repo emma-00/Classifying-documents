{
 "cells": [
  {
   "cell_type": "code",
   "execution_count": null,
   "metadata": {},
   "outputs": [],
   "source": [
    "from google.colab import files\n",
    "import os\n",
    "\n",
    "# make files into a folder\n",
    "\n",
    "uploaded_files = files.upload()\n",
    "folder_path = \"/content/dataset\"\n",
    "\n",
    "os.makedirs(folder_path, exist_ok=True)\n",
    "\n",
    "for file_name in uploaded_files.keys():\n",
    "    os.rename(file_name, os.path.join(folder_path, file_name))\n",
    "\n",
    "print(f\"Files moved to folder: {folder_path}\")\n"
   ]
  },
  {
   "cell_type": "code",
   "execution_count": null,
   "metadata": {},
   "outputs": [],
   "source": [
    "!pip install pytesseract pdf2image pillow"
   ]
  },
  {
   "cell_type": "code",
   "execution_count": null,
   "metadata": {},
   "outputs": [],
   "source": [
    "# Install necessary packages\n",
    "!apt-get update\n",
    "!apt-get install -y tesseract-ocr\n",
    "!apt-get install -y libtesseract-dev\n",
    "!apt-get install -y poppler-utils\n",
    "!pip install pytesseract pdf2image pillow\n"
   ]
  },
  {
   "cell_type": "code",
   "execution_count": null,
   "metadata": {},
   "outputs": [],
   "source": [
    "from google.colab import files\n",
    "\n",
    "# Upload nepali language traineddata file from https://github.com/tesseract-ocr/tessdata/raw/main/nep.traineddata\n",
    "\n",
    "uploaded = files.upload()\n",
    "!mv nep.traineddata /usr/share/tesseract-ocr/4.00/tessdata/\n",
    "!tesseract --list-langs\n"
   ]
  },
  {
   "cell_type": "code",
   "execution_count": null,
   "metadata": {},
   "outputs": [],
   "source": [
    "import pytesseract\n",
    "from PIL import Image\n",
    "import pdf2image\n",
    "import os\n",
    "\n",
    "pytesseract.pytesseract.tesseract_cmd = \"/usr/bin/tesseract\"\n",
    "\n",
    "# Function to extract text from an image using Tesseract\n",
    "def extract_text_from_image(image_path):\n",
    "    image = Image.open(image_path)\n",
    "    text = pytesseract.image_to_string(image, lang='nep+eng')  # Using Nepali and English languages\n",
    "    return text\n",
    "\n",
    "# Function to extract text from a PDF\n",
    "def extract_text_from_pdf(pdf_path):\n",
    "    pages = pdf2image.convert_from_path(pdf_path, 300)  \n",
    "    text = \"\"\n",
    "    for page in pages:\n",
    "        text += pytesseract.image_to_string(page, lang='nep+eng')\n",
    "    return text\n",
    "\n",
    "# Function to classify the document\n",
    "def classify_document(text):\n",
    "    text = text.lower()\n",
    "\n",
    "    if \"खाता खोल्ने फारम\" in text or \"account opening form\" in text:\n",
    "        return \"Account Opening Form\"\n",
    "    elif \"passport\" in text:\n",
    "        return \"Passport\"\n",
    "    elif \"परिचय पत्र\" in text or \"permanent account number card\" in text:\n",
    "        return \"PAN Card\"\n",
    "    elif \"नेपाली नागरिकताको प्रमाणपत्र\" in text or \"nepali citizenship certificate\" in text:\n",
    "        return \"Citizenship Card\"\n",
    "    else:\n",
    "        return \"Unknown Document\"\n",
    "\n",
    "# Main function to process documents in a directory\n",
    "def process_documents_in_directory(directory_path):\n",
    "    files = os.listdir(directory_path)\n",
    "\n",
    "    # Filter out only image and PDF files\n",
    "    supported_extensions = ['.pdf', '.jpg', '.jpeg', '.png', '.bmp', '.tiff']\n",
    "    files_to_process = [file for file in files if os.path.splitext(file)[1].lower() in supported_extensions]\n",
    "\n",
    "    # Process each file\n",
    "    for file in files_to_process:\n",
    "        file_path = os.path.join(directory_path, file)\n",
    "        print(f\"Processing {file}...\")\n",
    "\n",
    "        file_extension = os.path.splitext(file)[1].lower()\n",
    "        if file_extension == '.pdf':\n",
    "            text = extract_text_from_pdf(file_path)\n",
    "        elif file_extension in ['.jpg', '.jpeg', '.png', '.bmp', '.tiff']:\n",
    "            text = extract_text_from_image(file_path)\n",
    "        else:\n",
    "            print(f\"Unsupported file type: {file}\")\n",
    "            continue\n",
    "\n",
    "        # # Check the extracted text\n",
    "        # if not text.strip():\n",
    "        #     print(f\"No text extracted from {file}.\")\n",
    "        # else:\n",
    "        #     print(f\"Extracted Text from {file}: {text}\")\n",
    "\n",
    "        # document_type = classify_document(text)\n",
    "        # print(f\"{file} classified as: {document_type}\\n\")\n",
    "\n",
    "if __name__ == \"__main__\":\n",
    "    directory_path = '/content/dataset'  # Change this to your folder path containing the images or PDFs\n",
    "    process_documents_in_directory(directory_path)\n"
   ]
  }
 ],
 "metadata": {
  "kernelspec": {
   "display_name": "Python 3",
   "language": "python",
   "name": "python3"
  },
  "language_info": {
   "name": "python",
   "version": "3.12.6"
  }
 },
 "nbformat": 4,
 "nbformat_minor": 2
}
